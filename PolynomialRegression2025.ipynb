{
  "nbformat": 4,
  "nbformat_minor": 0,
  "metadata": {
    "colab": {
      "provenance": [],
      "authorship_tag": "ABX9TyNCtUbAQffFroRPfndSrOZ5",
      "include_colab_link": true
    },
    "kernelspec": {
      "name": "python3",
      "display_name": "Python 3"
    },
    "language_info": {
      "name": "python"
    }
  },
  "cells": [
    {
      "cell_type": "markdown",
      "metadata": {
        "id": "view-in-github",
        "colab_type": "text"
      },
      "source": [
        "<a href=\"https://colab.research.google.com/github/sahasswamy/frontend-project/blob/main/PolynomialRegression2025.ipynb\" target=\"_parent\"><img src=\"https://colab.research.google.com/assets/colab-badge.svg\" alt=\"Open In Colab\"/></a>"
      ]
    },
    {
      "cell_type": "code",
      "execution_count": 46,
      "metadata": {
        "id": "YkVxNC-2ICxe"
      },
      "outputs": [],
      "source": [
        "import pandas as pd\n",
        "import numpy as np\n",
        "from sklearn.preprocessing import StandardScaler, PolynomialFeatures\n",
        "from sklearn.pipeline import make_pipeline\n",
        "from sklearn.metrics import r2_score, mean_absolute_error, mean_squared_error\n",
        "from sklearn.linear_model import LinearRegression\n",
        "from sklearn.model_selection import train_test_split\n",
        "from sklearn.metrics import mean_squared_error, r2_score\n",
        "from sklearn.preprocessing import StandardScaler\n",
        "df = pd.read_excel(r'/content/PhD_Final_TS_Analysis.xlsx')"
      ]
    },
    {
      "cell_type": "code",
      "source": [
        "X = df.iloc[:, :-1]\n",
        "y = df.iloc[:, -1]"
      ],
      "metadata": {
        "id": "zs04dBJ6YEJ8"
      },
      "execution_count": 47,
      "outputs": []
    },
    {
      "cell_type": "code",
      "source": [
        "X_train, X_test, y_train, y_test = train_test_split(X, y, test_size = 0.2, random_state = 7 )"
      ],
      "metadata": {
        "id": "49ovgPv3YEHF"
      },
      "execution_count": 48,
      "outputs": []
    },
    {
      "cell_type": "code",
      "source": [
        "# Feature Scaling\n",
        "scaler = StandardScaler()\n",
        "X_train_scaled = scaler.fit_transform(X_train)\n",
        "X_test_scaled = scaler.transform(X_test)"
      ],
      "metadata": {
        "id": "u5YNBUfLYEEl"
      },
      "execution_count": 49,
      "outputs": []
    },
    {
      "cell_type": "markdown",
      "source": [
        "##Normally Polynomial regression does not have any specific hyperparameters, but 'poly_features__degree': [1, 2, 3, 4],  # Polynomial degrees to test\n",
        "##  'ridge__alpha': [0.1, 1, 10, 100]       # Regularization strengths"
      ],
      "metadata": {
        "id": "6wdGWjSfbrmP"
      }
    },
    {
      "cell_type": "code",
      "source": [
        "from sklearn.linear_model import Ridge\n",
        "from sklearn.model_selection import GridSearchCV\n",
        "# Define pipeline\n",
        "pipeline = Pipeline([\n",
        "    ('poly_features', PolynomialFeatures()),\n",
        "    ('ridge', Ridge())\n",
        "])\n",
        "# Define parameter grid\n",
        "param_grid = {\n",
        "    'poly_features__degree': [1, 2, 3, 4],  # Polynomial degrees to test\n",
        "    'ridge__alpha': [0.1, 1, 10, 100]      # Regularization strengths\n",
        "}\n",
        "# Grid search\n",
        "grid_search = GridSearchCV(pipeline, param_grid, cv=5, scoring='neg_mean_squared_error', verbose=1, n_jobs=-1)\n",
        "grid_search.fit(X_train, y_train)\n",
        "\n",
        "# Best parameters\n",
        "print(\"Best Parameters:\", grid_search.best_params_)\n",
        "print(\"Best Score:\", -grid_search.best_score_)"
      ],
      "metadata": {
        "colab": {
          "base_uri": "https://localhost:8080/"
        },
        "id": "HIJCeyFIbh9v",
        "outputId": "5e0937bb-1726-4f8a-eb46-6fa96217218c"
      },
      "execution_count": 50,
      "outputs": [
        {
          "output_type": "stream",
          "name": "stdout",
          "text": [
            "Fitting 5 folds for each of 16 candidates, totalling 80 fits\n",
            "Best Parameters: {'poly_features__degree': 2, 'ridge__alpha': 100}\n",
            "Best Score: 6.3212130895414065\n"
          ]
        },
        {
          "output_type": "stream",
          "name": "stderr",
          "text": [
            "/usr/local/lib/python3.10/dist-packages/sklearn/linear_model/_ridge.py:215: LinAlgWarning: Ill-conditioned matrix (rcond=8.83544e-18): result may not be accurate.\n",
            "  return linalg.solve(A, Xy, assume_a=\"pos\", overwrite_a=True).T\n"
          ]
        }
      ]
    },
    {
      "cell_type": "markdown",
      "source": [
        "## Model Development using Pipeline\n",
        "### Get all the predicted and actual values for training and testing"
      ],
      "metadata": {
        "id": "VqCqEA3-cFZ3"
      }
    },
    {
      "cell_type": "code",
      "source": [
        "degree = 2\n",
        "model = make_pipeline(PolynomialFeatures(degree), LinearRegression())\n",
        "# Fit the model on training data\n",
        "model.fit(X_train_scaled, y_train)\n",
        "# Predictions for both train and test sets\n",
        "y_pred_train = model.predict(X_train_scaled)\n",
        "y_pred_test = model.predict(X_test_scaled)\n",
        "# Evaluation Metrics for test set\n",
        "r2 = r2_score(y_test, y_pred_test)\n",
        "mae = mean_absolute_error(y_test, y_pred_test)\n",
        "rmse = np.sqrt(mean_squared_error(y_test, y_pred_test))\n",
        "mape = np.mean(np.abs((y_test - y_pred_test) / y_test)) * 100\n",
        "vaf = 1 - np.var(y_test - y_pred_test) / np.var(y_test)\n",
        "d_index = 1 - (np.sum((y_test - y_pred_test)**2) / np.sum((np.abs(y_pred_test - y_test.mean()) + np.abs(y_test - y_test.mean()))**2))\n",
        "# Display metrics\n",
        "print(f\"R²: {r2:.3f}\")\n",
        "print(f\"MAE: {mae:.3f}\")\n",
        "print(f\"MAPE: {mape:.3f}%\")\n",
        "print(f\"RMSE: {rmse:.3f}\")\n",
        "print(f\"VAF: {vaf:.3f}\")\n",
        "print(f\"Willmott's Index of Agreement: {d_index:.3f}\")\n",
        "# Combine Actual vs Predicted values into a single DataFrame\n",
        "result_train = pd.DataFrame({'Actual': y_train, 'Predicted': y_pred_train, 'Dataset': 'Train'})\n",
        "result_test = pd.DataFrame({'Actual': y_test, 'Predicted': y_pred_test, 'Dataset': 'Test'})\n",
        "result_df = pd.concat([result_train, result_test], ignore_index=True)\n",
        "# Save results to an Excel file\n",
        "output_file = 'Predicted_Values_TS1.xlsx'\n",
        "result_df.to_excel(output_file, index=False)\n",
        "print(f\"Combined Actual vs Predicted values saved to '{output_file}'\")"
      ],
      "metadata": {
        "colab": {
          "base_uri": "https://localhost:8080/"
        },
        "id": "B4YQ_RSxYD88",
        "outputId": "275aa33a-5aea-43f2-8151-10cb6b7f5d2b"
      },
      "execution_count": 51,
      "outputs": [
        {
          "output_type": "stream",
          "name": "stdout",
          "text": [
            "R²: 0.834\n",
            "MAE: 2.175\n",
            "MAPE: 16.221%\n",
            "RMSE: 2.776\n",
            "VAF: 0.863\n",
            "Willmott's Index of Agreement: 0.957\n",
            "Combined Actual vs Predicted values saved to 'Predicted_Values_TS1.xlsx'\n"
          ]
        }
      ]
    },
    {
      "cell_type": "markdown",
      "source": [
        "# Code to get polynomial regression equation"
      ],
      "metadata": {
        "id": "WC-PkA_efaP0"
      }
    },
    {
      "cell_type": "code",
      "source": [
        "df.describe()"
      ],
      "metadata": {
        "colab": {
          "base_uri": "https://localhost:8080/",
          "height": 300
        },
        "id": "NZyqTk1XbGE3",
        "outputId": "db9c55c9-7f5f-4d42-f963-47e4b7c2bd7d"
      },
      "execution_count": 24,
      "outputs": [
        {
          "output_type": "execute_result",
          "data": {
            "text/plain": [
              "                GMW          Jb           U        D10N         D50  \\\n",
              "count    298.000000  298.000000  298.000000  298.000000  298.000000   \n",
              "mean   27403.849584    6.661189    0.470142   57.477779  224.893708   \n",
              "std     3577.494027    1.102314    0.082128   15.617126   78.665395   \n",
              "min    15924.000000    3.911000    0.255000   35.672000  112.433000   \n",
              "25%    25107.111952    5.852026    0.409333   43.216000  142.126250   \n",
              "50%    27127.439375    6.642552    0.469947   53.660500  224.171000   \n",
              "75%    29671.757817    7.452833    0.525347   72.111500  286.672250   \n",
              "max    38225.000000    9.551000    0.676000   89.673000  372.467000   \n",
              "\n",
              "               D90  Tensile_Strength  \n",
              "count   298.000000        298.000000  \n",
              "mean   4547.411085         15.671745  \n",
              "std     704.093507          6.766893  \n",
              "min    3597.271000          5.200000  \n",
              "25%    3884.238000          9.165000  \n",
              "50%    4346.863500         15.075000  \n",
              "75%    5148.747000         20.287500  \n",
              "max    5939.277000         30.330000  "
            ],
            "text/html": [
              "\n",
              "  <div id=\"df-2cc24b76-eea3-4cc8-bd95-8923cafa4549\" class=\"colab-df-container\">\n",
              "    <div>\n",
              "<style scoped>\n",
              "    .dataframe tbody tr th:only-of-type {\n",
              "        vertical-align: middle;\n",
              "    }\n",
              "\n",
              "    .dataframe tbody tr th {\n",
              "        vertical-align: top;\n",
              "    }\n",
              "\n",
              "    .dataframe thead th {\n",
              "        text-align: right;\n",
              "    }\n",
              "</style>\n",
              "<table border=\"1\" class=\"dataframe\">\n",
              "  <thead>\n",
              "    <tr style=\"text-align: right;\">\n",
              "      <th></th>\n",
              "      <th>GMW</th>\n",
              "      <th>Jb</th>\n",
              "      <th>U</th>\n",
              "      <th>D10N</th>\n",
              "      <th>D50</th>\n",
              "      <th>D90</th>\n",
              "      <th>Tensile_Strength</th>\n",
              "    </tr>\n",
              "  </thead>\n",
              "  <tbody>\n",
              "    <tr>\n",
              "      <th>count</th>\n",
              "      <td>298.000000</td>\n",
              "      <td>298.000000</td>\n",
              "      <td>298.000000</td>\n",
              "      <td>298.000000</td>\n",
              "      <td>298.000000</td>\n",
              "      <td>298.000000</td>\n",
              "      <td>298.000000</td>\n",
              "    </tr>\n",
              "    <tr>\n",
              "      <th>mean</th>\n",
              "      <td>27403.849584</td>\n",
              "      <td>6.661189</td>\n",
              "      <td>0.470142</td>\n",
              "      <td>57.477779</td>\n",
              "      <td>224.893708</td>\n",
              "      <td>4547.411085</td>\n",
              "      <td>15.671745</td>\n",
              "    </tr>\n",
              "    <tr>\n",
              "      <th>std</th>\n",
              "      <td>3577.494027</td>\n",
              "      <td>1.102314</td>\n",
              "      <td>0.082128</td>\n",
              "      <td>15.617126</td>\n",
              "      <td>78.665395</td>\n",
              "      <td>704.093507</td>\n",
              "      <td>6.766893</td>\n",
              "    </tr>\n",
              "    <tr>\n",
              "      <th>min</th>\n",
              "      <td>15924.000000</td>\n",
              "      <td>3.911000</td>\n",
              "      <td>0.255000</td>\n",
              "      <td>35.672000</td>\n",
              "      <td>112.433000</td>\n",
              "      <td>3597.271000</td>\n",
              "      <td>5.200000</td>\n",
              "    </tr>\n",
              "    <tr>\n",
              "      <th>25%</th>\n",
              "      <td>25107.111952</td>\n",
              "      <td>5.852026</td>\n",
              "      <td>0.409333</td>\n",
              "      <td>43.216000</td>\n",
              "      <td>142.126250</td>\n",
              "      <td>3884.238000</td>\n",
              "      <td>9.165000</td>\n",
              "    </tr>\n",
              "    <tr>\n",
              "      <th>50%</th>\n",
              "      <td>27127.439375</td>\n",
              "      <td>6.642552</td>\n",
              "      <td>0.469947</td>\n",
              "      <td>53.660500</td>\n",
              "      <td>224.171000</td>\n",
              "      <td>4346.863500</td>\n",
              "      <td>15.075000</td>\n",
              "    </tr>\n",
              "    <tr>\n",
              "      <th>75%</th>\n",
              "      <td>29671.757817</td>\n",
              "      <td>7.452833</td>\n",
              "      <td>0.525347</td>\n",
              "      <td>72.111500</td>\n",
              "      <td>286.672250</td>\n",
              "      <td>5148.747000</td>\n",
              "      <td>20.287500</td>\n",
              "    </tr>\n",
              "    <tr>\n",
              "      <th>max</th>\n",
              "      <td>38225.000000</td>\n",
              "      <td>9.551000</td>\n",
              "      <td>0.676000</td>\n",
              "      <td>89.673000</td>\n",
              "      <td>372.467000</td>\n",
              "      <td>5939.277000</td>\n",
              "      <td>30.330000</td>\n",
              "    </tr>\n",
              "  </tbody>\n",
              "</table>\n",
              "</div>\n",
              "    <div class=\"colab-df-buttons\">\n",
              "\n",
              "  <div class=\"colab-df-container\">\n",
              "    <button class=\"colab-df-convert\" onclick=\"convertToInteractive('df-2cc24b76-eea3-4cc8-bd95-8923cafa4549')\"\n",
              "            title=\"Convert this dataframe to an interactive table.\"\n",
              "            style=\"display:none;\">\n",
              "\n",
              "  <svg xmlns=\"http://www.w3.org/2000/svg\" height=\"24px\" viewBox=\"0 -960 960 960\">\n",
              "    <path d=\"M120-120v-720h720v720H120Zm60-500h600v-160H180v160Zm220 220h160v-160H400v160Zm0 220h160v-160H400v160ZM180-400h160v-160H180v160Zm440 0h160v-160H620v160ZM180-180h160v-160H180v160Zm440 0h160v-160H620v160Z\"/>\n",
              "  </svg>\n",
              "    </button>\n",
              "\n",
              "  <style>\n",
              "    .colab-df-container {\n",
              "      display:flex;\n",
              "      gap: 12px;\n",
              "    }\n",
              "\n",
              "    .colab-df-convert {\n",
              "      background-color: #E8F0FE;\n",
              "      border: none;\n",
              "      border-radius: 50%;\n",
              "      cursor: pointer;\n",
              "      display: none;\n",
              "      fill: #1967D2;\n",
              "      height: 32px;\n",
              "      padding: 0 0 0 0;\n",
              "      width: 32px;\n",
              "    }\n",
              "\n",
              "    .colab-df-convert:hover {\n",
              "      background-color: #E2EBFA;\n",
              "      box-shadow: 0px 1px 2px rgba(60, 64, 67, 0.3), 0px 1px 3px 1px rgba(60, 64, 67, 0.15);\n",
              "      fill: #174EA6;\n",
              "    }\n",
              "\n",
              "    .colab-df-buttons div {\n",
              "      margin-bottom: 4px;\n",
              "    }\n",
              "\n",
              "    [theme=dark] .colab-df-convert {\n",
              "      background-color: #3B4455;\n",
              "      fill: #D2E3FC;\n",
              "    }\n",
              "\n",
              "    [theme=dark] .colab-df-convert:hover {\n",
              "      background-color: #434B5C;\n",
              "      box-shadow: 0px 1px 3px 1px rgba(0, 0, 0, 0.15);\n",
              "      filter: drop-shadow(0px 1px 2px rgba(0, 0, 0, 0.3));\n",
              "      fill: #FFFFFF;\n",
              "    }\n",
              "  </style>\n",
              "\n",
              "    <script>\n",
              "      const buttonEl =\n",
              "        document.querySelector('#df-2cc24b76-eea3-4cc8-bd95-8923cafa4549 button.colab-df-convert');\n",
              "      buttonEl.style.display =\n",
              "        google.colab.kernel.accessAllowed ? 'block' : 'none';\n",
              "\n",
              "      async function convertToInteractive(key) {\n",
              "        const element = document.querySelector('#df-2cc24b76-eea3-4cc8-bd95-8923cafa4549');\n",
              "        const dataTable =\n",
              "          await google.colab.kernel.invokeFunction('convertToInteractive',\n",
              "                                                    [key], {});\n",
              "        if (!dataTable) return;\n",
              "\n",
              "        const docLinkHtml = 'Like what you see? Visit the ' +\n",
              "          '<a target=\"_blank\" href=https://colab.research.google.com/notebooks/data_table.ipynb>data table notebook</a>'\n",
              "          + ' to learn more about interactive tables.';\n",
              "        element.innerHTML = '';\n",
              "        dataTable['output_type'] = 'display_data';\n",
              "        await google.colab.output.renderOutput(dataTable, element);\n",
              "        const docLink = document.createElement('div');\n",
              "        docLink.innerHTML = docLinkHtml;\n",
              "        element.appendChild(docLink);\n",
              "      }\n",
              "    </script>\n",
              "  </div>\n",
              "\n",
              "\n",
              "<div id=\"df-eb299868-8e5a-4db4-8c93-1d19c3018957\">\n",
              "  <button class=\"colab-df-quickchart\" onclick=\"quickchart('df-eb299868-8e5a-4db4-8c93-1d19c3018957')\"\n",
              "            title=\"Suggest charts\"\n",
              "            style=\"display:none;\">\n",
              "\n",
              "<svg xmlns=\"http://www.w3.org/2000/svg\" height=\"24px\"viewBox=\"0 0 24 24\"\n",
              "     width=\"24px\">\n",
              "    <g>\n",
              "        <path d=\"M19 3H5c-1.1 0-2 .9-2 2v14c0 1.1.9 2 2 2h14c1.1 0 2-.9 2-2V5c0-1.1-.9-2-2-2zM9 17H7v-7h2v7zm4 0h-2V7h2v10zm4 0h-2v-4h2v4z\"/>\n",
              "    </g>\n",
              "</svg>\n",
              "  </button>\n",
              "\n",
              "<style>\n",
              "  .colab-df-quickchart {\n",
              "      --bg-color: #E8F0FE;\n",
              "      --fill-color: #1967D2;\n",
              "      --hover-bg-color: #E2EBFA;\n",
              "      --hover-fill-color: #174EA6;\n",
              "      --disabled-fill-color: #AAA;\n",
              "      --disabled-bg-color: #DDD;\n",
              "  }\n",
              "\n",
              "  [theme=dark] .colab-df-quickchart {\n",
              "      --bg-color: #3B4455;\n",
              "      --fill-color: #D2E3FC;\n",
              "      --hover-bg-color: #434B5C;\n",
              "      --hover-fill-color: #FFFFFF;\n",
              "      --disabled-bg-color: #3B4455;\n",
              "      --disabled-fill-color: #666;\n",
              "  }\n",
              "\n",
              "  .colab-df-quickchart {\n",
              "    background-color: var(--bg-color);\n",
              "    border: none;\n",
              "    border-radius: 50%;\n",
              "    cursor: pointer;\n",
              "    display: none;\n",
              "    fill: var(--fill-color);\n",
              "    height: 32px;\n",
              "    padding: 0;\n",
              "    width: 32px;\n",
              "  }\n",
              "\n",
              "  .colab-df-quickchart:hover {\n",
              "    background-color: var(--hover-bg-color);\n",
              "    box-shadow: 0 1px 2px rgba(60, 64, 67, 0.3), 0 1px 3px 1px rgba(60, 64, 67, 0.15);\n",
              "    fill: var(--button-hover-fill-color);\n",
              "  }\n",
              "\n",
              "  .colab-df-quickchart-complete:disabled,\n",
              "  .colab-df-quickchart-complete:disabled:hover {\n",
              "    background-color: var(--disabled-bg-color);\n",
              "    fill: var(--disabled-fill-color);\n",
              "    box-shadow: none;\n",
              "  }\n",
              "\n",
              "  .colab-df-spinner {\n",
              "    border: 2px solid var(--fill-color);\n",
              "    border-color: transparent;\n",
              "    border-bottom-color: var(--fill-color);\n",
              "    animation:\n",
              "      spin 1s steps(1) infinite;\n",
              "  }\n",
              "\n",
              "  @keyframes spin {\n",
              "    0% {\n",
              "      border-color: transparent;\n",
              "      border-bottom-color: var(--fill-color);\n",
              "      border-left-color: var(--fill-color);\n",
              "    }\n",
              "    20% {\n",
              "      border-color: transparent;\n",
              "      border-left-color: var(--fill-color);\n",
              "      border-top-color: var(--fill-color);\n",
              "    }\n",
              "    30% {\n",
              "      border-color: transparent;\n",
              "      border-left-color: var(--fill-color);\n",
              "      border-top-color: var(--fill-color);\n",
              "      border-right-color: var(--fill-color);\n",
              "    }\n",
              "    40% {\n",
              "      border-color: transparent;\n",
              "      border-right-color: var(--fill-color);\n",
              "      border-top-color: var(--fill-color);\n",
              "    }\n",
              "    60% {\n",
              "      border-color: transparent;\n",
              "      border-right-color: var(--fill-color);\n",
              "    }\n",
              "    80% {\n",
              "      border-color: transparent;\n",
              "      border-right-color: var(--fill-color);\n",
              "      border-bottom-color: var(--fill-color);\n",
              "    }\n",
              "    90% {\n",
              "      border-color: transparent;\n",
              "      border-bottom-color: var(--fill-color);\n",
              "    }\n",
              "  }\n",
              "</style>\n",
              "\n",
              "  <script>\n",
              "    async function quickchart(key) {\n",
              "      const quickchartButtonEl =\n",
              "        document.querySelector('#' + key + ' button');\n",
              "      quickchartButtonEl.disabled = true;  // To prevent multiple clicks.\n",
              "      quickchartButtonEl.classList.add('colab-df-spinner');\n",
              "      try {\n",
              "        const charts = await google.colab.kernel.invokeFunction(\n",
              "            'suggestCharts', [key], {});\n",
              "      } catch (error) {\n",
              "        console.error('Error during call to suggestCharts:', error);\n",
              "      }\n",
              "      quickchartButtonEl.classList.remove('colab-df-spinner');\n",
              "      quickchartButtonEl.classList.add('colab-df-quickchart-complete');\n",
              "    }\n",
              "    (() => {\n",
              "      let quickchartButtonEl =\n",
              "        document.querySelector('#df-eb299868-8e5a-4db4-8c93-1d19c3018957 button');\n",
              "      quickchartButtonEl.style.display =\n",
              "        google.colab.kernel.accessAllowed ? 'block' : 'none';\n",
              "    })();\n",
              "  </script>\n",
              "</div>\n",
              "\n",
              "    </div>\n",
              "  </div>\n"
            ],
            "application/vnd.google.colaboratory.intrinsic+json": {
              "type": "dataframe",
              "summary": "{\n  \"name\": \"df\",\n  \"rows\": 8,\n  \"fields\": [\n    {\n      \"column\": \"GMW\",\n      \"properties\": {\n        \"dtype\": \"number\",\n        \"std\": 13229.567202474333,\n        \"min\": 298.0,\n        \"max\": 38225.0,\n        \"num_unique_values\": 8,\n        \"samples\": [\n          27403.849584305895,\n          27127.439375188987,\n          298.0\n        ],\n        \"semantic_type\": \"\",\n        \"description\": \"\"\n      }\n    },\n    {\n      \"column\": \"Jb\",\n      \"properties\": {\n        \"dtype\": \"number\",\n        \"std\": 103.30968382634045,\n        \"min\": 1.1023137910931908,\n        \"max\": 298.0,\n        \"num_unique_values\": 8,\n        \"samples\": [\n          6.661188589485792,\n          6.642551514105554,\n          298.0\n        ],\n        \"semantic_type\": \"\",\n        \"description\": \"\"\n      }\n    },\n    {\n      \"column\": \"U\",\n      \"properties\": {\n        \"dtype\": \"number\",\n        \"std\": 105.21320085201205,\n        \"min\": 0.0821282119413826,\n        \"max\": 298.0,\n        \"num_unique_values\": 8,\n        \"samples\": [\n          0.47014153661926733,\n          0.4699465887789816,\n          298.0\n        ],\n        \"semantic_type\": \"\",\n        \"description\": \"\"\n      }\n    },\n    {\n      \"column\": \"D10N\",\n      \"properties\": {\n        \"dtype\": \"number\",\n        \"std\": 89.65264837263334,\n        \"min\": 15.617125804552748,\n        \"max\": 298.0,\n        \"num_unique_values\": 8,\n        \"samples\": [\n          57.47777852348994,\n          53.6605,\n          298.0\n        ],\n        \"semantic_type\": \"\",\n        \"description\": \"\"\n      }\n    },\n    {\n      \"column\": \"D50\",\n      \"properties\": {\n        \"dtype\": \"number\",\n        \"std\": 100.97685304637382,\n        \"min\": 78.66539454080991,\n        \"max\": 372.467,\n        \"num_unique_values\": 8,\n        \"samples\": [\n          224.8937080536913,\n          224.171,\n          298.0\n        ],\n        \"semantic_type\": \"\",\n        \"description\": \"\"\n      }\n    },\n    {\n      \"column\": \"D90\",\n      \"properties\": {\n        \"dtype\": \"number\",\n        \"std\": 2024.230059828772,\n        \"min\": 298.0,\n        \"max\": 5939.277,\n        \"num_unique_values\": 8,\n        \"samples\": [\n          4547.411084899329,\n          4346.8634999999995,\n          298.0\n        ],\n        \"semantic_type\": \"\",\n        \"description\": \"\"\n      }\n    },\n    {\n      \"column\": \"Tensile_Strength\",\n      \"properties\": {\n        \"dtype\": \"number\",\n        \"std\": 100.509796459211,\n        \"min\": 5.2,\n        \"max\": 298.0,\n        \"num_unique_values\": 8,\n        \"samples\": [\n          15.671744966442954,\n          15.075,\n          298.0\n        ],\n        \"semantic_type\": \"\",\n        \"description\": \"\"\n      }\n    }\n  ]\n}"
            }
          },
          "metadata": {},
          "execution_count": 24
        }
      ]
    },
    {
      "cell_type": "code",
      "source": [
        "# Extract the coefficients and display the equation\n",
        "# Create a pipeline with Polynomial Features and Linear Regression\n",
        "poly = PolynomialFeatures(degree)\n",
        "X_train_poly = poly.fit_transform(X_train)\n",
        "model = LinearRegression()\n",
        "model.fit(X_train_poly, y_train)\n",
        "coefficients = model.coef_\n",
        "intercept = model.intercept_\n",
        "feature_names = poly.get_feature_names_out(['FI', 'GMQ', 'τ', 'D10', 'D50', 'D90'])\n",
        "\n",
        "# Generate the equation\n",
        "equation = f\"{intercept:.4f}\"\n",
        "for coef, feature in zip(coefficients, feature_names):\n",
        "    if coef != 0:\n",
        "        equation += f\" + ({coef:.4f})*{feature}\"\n",
        "\n",
        "print(\"\\nPolynomial Regression Equation:\")\n",
        "print(equation)"
      ],
      "metadata": {
        "colab": {
          "base_uri": "https://localhost:8080/"
        },
        "id": "JfAqHpf3YD6k",
        "outputId": "f150f4ca-4985-489d-eec9-9664b8b51d6a"
      },
      "execution_count": null,
      "outputs": [
        {
          "output_type": "stream",
          "name": "stdout",
          "text": [
            "\n",
            "Polynomial Regression Equation:\n",
            "-2597.8872 + (-0.0037)*1 + (2.8082)*FI + (84.7164)*GMQ + (-17907.2701)*τ + (-321.3994)*D10 + (15.3414)*D50 + (4.0659)*D90 + (-0.0005)*FI^2 + (-0.0138)*FI GMQ + (-0.0769)*FI τ + (0.0303)*FI D10 + (-0.0054)*FI D50 + (0.0000)*FI D90 + (-0.2211)*GMQ^2 + (194.7063)*GMQ τ + (0.9216)*GMQ D10 + (-0.1336)*GMQ D50 + (-0.0106)*GMQ D90 + (-35639.8443)*τ^2 + (-218.7761)*τ D10 + (40.7139)*τ D50 + (0.6474)*τ D90 + (-0.7850)*D10^2 + (-0.0712)*D10 D50 + (0.0565)*D10 D90 + (0.0256)*D50^2 + (-0.0018)*D50 D90 + (-0.0006)*D90^2\n"
          ]
        }
      ]
    }
  ]
}